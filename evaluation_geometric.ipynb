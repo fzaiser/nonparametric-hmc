{
 "cells": [
  {
   "cell_type": "markdown",
   "metadata": {},
   "source": [
    "# Geometric distribution example"
   ]
  },
  {
   "cell_type": "code",
   "execution_count": 1,
   "metadata": {
    "tags": []
   },
   "outputs": [],
   "source": [
    "# Load generated data from file:\n",
    "import pickle\n",
    "\n",
    "from evaluation import *\n",
    "\n",
    "runs = []\n",
    "num_chains = 10\n",
    "for i in range(num_chains):\n",
    "    with open(f\"samples_produced/geometric{i}__count1000_eps0.1_leapfrogsteps5.pickle\", \"rb\") as f:\n",
    "        runs.append(pickle.load(f))"
   ]
  },
  {
   "cell_type": "code",
   "execution_count": 2,
   "metadata": {},
   "outputs": [],
   "source": [
    "# Read Anglican files:\n",
    "for i in range(num_chains):\n",
    "    for method in anglican_methods:\n",
    "        runs[i][method] = {}\n",
    "        with open(f\"anglican_samples/geo/{method}{i}.txt\") as f:\n",
    "            contents = f.read()\n",
    "            # Skip parentheses:\n",
    "            contents = contents[1:-1]\n",
    "            # Extract numbers:\n",
    "            numbers = [int(x) for x in contents.split()]\n",
    "            runs[i][method][\"samples\"] = numbers\n",
    "\n",
    "# Read timings:\n",
    "if anglican_methods:\n",
    "    timings = parse_anglican_timings(\"anglican_samples/geo/timing.txt\")\n",
    "    for method in anglican_methods:\n",
    "        for i in range(len(runs)):\n",
    "            runs[i][method][\"time\"] = timings[method][i]"
   ]
  },
  {
   "cell_type": "code",
   "execution_count": 3,
   "metadata": {},
   "outputs": [
    {
     "name": "stdout",
     "output_type": "stream",
     "text": [
      "\n",
      "Running times:\n",
      "hmc: 418.07s    0.0418s per sample (after thinning)\n",
      "is: 72.84s    0.0073s per sample (after thinning)\n",
      "lmh: 3.42s    0.0003s per sample (after thinning)\n",
      "pgibbs: 1.43s    0.0001s per sample (after thinning)\n",
      "rmh: 4.87s    0.0005s per sample (after thinning)\n",
      "ipmcmc: 1.07s    0.0001s per sample (after thinning)\n"
     ]
    }
   ],
   "source": [
    "thinned_runs = thin_runs(all_methods, runs)\n",
    "values = collect_values(all_methods, thinned_runs)\n",
    "print_running_time(all_methods, runs, thinned_runs)"
   ]
  },
  {
   "cell_type": "code",
   "execution_count": 4,
   "metadata": {},
   "outputs": [
    {
     "name": "stdout",
     "output_type": "stream",
     "text": [
      "Total variation distance from the ground truth:\n",
      "hmc:  0.0136\n",
      "is:  0.0165\n",
      "lmh:  0.0224\n",
      "pgibbs:  0.0158\n",
      "rmh:  0.0196\n",
      "ipmcmc:  0.0164\n"
     ]
    }
   ],
   "source": [
    "def total_variational_distance(samples, p = 0.2):\n",
    "    samples = sorted(samples)\n",
    "    N = len(samples)\n",
    "    mx = int(samples[-1])\n",
    "    freq = [0 for _ in range(mx + 1)]\n",
    "    for sample in samples:\n",
    "        freq[int(sample)] += 1\n",
    "    dist = 0\n",
    "    for x in range(1,mx + 1):\n",
    "        dist += abs(freq[x] / N - (1 - p)**(x-1)*p)\n",
    "    dist += (1 - p)**mx # unsampled tail\n",
    "    return dist / 2\n",
    "\n",
    "print(\"Total variation distance from the ground truth:\")\n",
    "for method in all_methods:\n",
    "    print(f\"{method}:  {total_variational_distance(values[method]):.4f}\")"
   ]
  }
 ],
 "metadata": {
  "kernelspec": {
   "display_name": "Python 3",
   "language": "python",
   "name": "python3"
  },
  "language_info": {
   "codemirror_mode": {
    "name": "ipython",
    "version": 3
   },
   "file_extension": ".py",
   "mimetype": "text/x-python",
   "name": "python",
   "nbconvert_exporter": "python",
   "pygments_lexer": "ipython3",
   "version": "3.8.5"
  }
 },
 "nbformat": 4,
 "nbformat_minor": 2
}
