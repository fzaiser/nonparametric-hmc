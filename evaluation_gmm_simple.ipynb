{
 "cells": [
  {
   "cell_type": "markdown",
   "metadata": {},
   "source": [
    "# Gaussian mixture model"
   ]
  },
  {
   "cell_type": "code",
   "execution_count": 7,
   "metadata": {},
   "outputs": [],
   "source": [
    "# Load generated data from file:\n",
    "import pickle\n",
    "\n",
    "from evaluation import *\n",
    "\n",
    "runs = []\n",
    "num_chains = 10\n",
    "for i in range(num_chains):\n",
    "    with open(f\"samples_produced/gmm_{i}__count1000_eps0.05_leapfrogsteps50.pickle\", \"rb\") as f:\n",
    "        runs.append(pickle.load(f))"
   ]
  },
  {
   "cell_type": "code",
   "execution_count": 13,
   "metadata": {},
   "outputs": [],
   "source": [
    "all_methods = list(set(all_methods) - set(anglican_methods))"
   ]
  },
  {
   "cell_type": "code",
   "execution_count": 14,
   "metadata": {},
   "outputs": [
    {
     "name": "stdout",
     "output_type": "stream",
     "text": [
      "\n",
      "Running times:\n",
      "hmc: 2143.20s    0.2143s per sample (after thinning)\n",
      "is: 1571.89s    0.1572s per sample (after thinning)\n"
     ]
    }
   ],
   "source": [
    "thinned_runs = thin_runs(all_methods, runs)\n",
    "chains = collect_chains(all_methods, thinned_runs)\n",
    "print_running_time(all_methods, runs, thinned_runs)"
   ]
  },
  {
   "cell_type": "code",
   "execution_count": 15,
   "metadata": {},
   "outputs": [
    {
     "name": "stdout",
     "output_type": "stream",
     "text": [
      "Log posterior predictive densities:\n",
      "True LPPD:  -674.81 +- nan (standard deviation)\n",
      "hmc:  -731.08 +- 0.00 (standard deviation)\n",
      "is:  -725.98 +- 0.00 (standard deviation)\n"
     ]
    }
   ],
   "source": [
    "import torch\n",
    "import math\n",
    "import example_gmm as gmm\n",
    "\n",
    "def gmm_lppd(samples):\n",
    "    M = len(samples)\n",
    "    N = len(gmm.test_data)\n",
    "    #compute the probability density for each data point and sapmle (size M x N):\n",
    "    logps = torch.stack([gmm.loglikelihoods(torch.tensor(sample), gmm.test_data) for sample in samples])\n",
    "    # average over all samples:\n",
    "    logp_avg = torch.logsumexp(logps, dim=0) - math.log(float(M))\n",
    "    # sum over all test data points:\n",
    "    lppd = torch.sum(logp_avg)\n",
    "    return lppd\n",
    "\n",
    "def gmm_lppd_stats(chains):\n",
    "    lppds = torch.tensor([gmm_lppd(chain) for chain in chains])\n",
    "    std, mean = torch.std_mean(lppds)\n",
    "    return mean.item(), std.item()\n",
    "\n",
    "def print_gmm_lppd_stats(chains):\n",
    "    mean, std = gmm_lppd_stats(chains)\n",
    "    return f\"{mean:.2f} +- {std:.2f} (standard deviation)\"\n",
    "\n",
    "print(\"Log posterior predictive densities:\")\n",
    "print(f\"True LPPD:  {print_gmm_lppd_stats([[gmm.data_means.tolist()]])}\")\n",
    "for method in all_methods:\n",
    "    print(f\"{method}:  {print_gmm_lppd_stats(chains[method])}\")"
   ]
  },
  {
   "cell_type": "code",
   "execution_count": 18,
   "metadata": {},
   "outputs": [],
   "source": [
    "compared_methods = list(set(compared_methods) - set(anglican_methods))"
   ]
  },
  {
   "cell_type": "code",
   "execution_count": 19,
   "metadata": {},
   "outputs": [
    {
     "data": {
      "image/png": "[encoded data removed]",
      "text/plain": [
       "<Figure size 800x266.667 with 1 Axes>"
      ]
     },
     "metadata": {},
     "output_type": "display_data"
    }
   ],
   "source": [
    "# Plot the number of mixture components\n",
    "import pandas\n",
    "import torch\n",
    "import matplotlib.pyplot as plt\n",
    "import seaborn as sns\n",
    "\n",
    "def toListOfKs(xss):\n",
    "    return [len(x) for xs in xss for x in xs]\n",
    "\n",
    "data = []\n",
    "for method in compared_methods:\n",
    "    data += [(method_name[method], k) for k in toListOfKs(chains[method])]\n",
    "\n",
    "x_label = \"number of mixture components\"\n",
    "dataframe = pandas.DataFrame(data, columns=[\"method\", x_label])\n",
    "plot = sns.displot(\n",
    "    data=dataframe,\n",
    "    x=x_label,\n",
    "    hue=\"method\",\n",
    "    stat=\"density\",\n",
    "    common_norm=False,\n",
    "    discrete=True,\n",
    "    binrange=(4,18),\n",
    "    multiple=\"dodge\",\n",
    "    shrink=0.6,\n",
    "    aspect=3.0,\n",
    "    facet_kws={\"legend_out\": False},\n",
    "    palette=palette,\n",
    "    height=8/3,\n",
    ")\n",
    "plot.set_ylabels(label=\"posterior density\")\n",
    "plt.xticks([i for i in range(4, 19)])\n",
    "plot.savefig(\"gmm-histogram.pdf\", bbox_inches=\"tight\")"
   ]
  }
 ],
 "metadata": {
  "kernelspec": {
   "display_name": "Python 3 (ipykernel)",
   "language": "python",
   "name": "python3"
  },
  "language_info": {
   "codemirror_mode": {
    "name": "ipython",
    "version": 3
   },
   "file_extension": ".py",
   "mimetype": "text/x-python",
   "name": "python",
   "nbconvert_exporter": "python",
   "pygments_lexer": "ipython3",
   "version": "3.10.9"
  },
  "metadata": {
   "interpreter": {
    "hash": "31f2aee4e71d21fbe5cf8b01ff0e069b9275f58929596ceb00d14d90e3e16cd6"
   }
  },
  "vscode": {
   "interpreter": {
    "hash": "31f2aee4e71d21fbe5cf8b01ff0e069b9275f58929596ceb00d14d90e3e16cd6"
   }
  }
 },
 "nbformat": 4,
 "nbformat_minor": 2
}
